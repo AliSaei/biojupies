{
 "cells": [
  {
   "cell_type": "code",
   "execution_count": 54,
   "metadata": {},
   "outputs": [
    {
     "name": "stdout",
     "output_type": "stream",
     "text": [
      "/Users/denis/Documents/Projects/jupyter-notebook/notebook-generator/benchmarking\n"
     ]
    }
   ],
   "source": [
    "%cd /Users/denis/Documents/Projects/jupyter-notebook/notebook-generator/benchmarking"
   ]
  },
  {
   "cell_type": "code",
   "execution_count": 59,
   "metadata": {
    "collapsed": true
   },
   "outputs": [],
   "source": [
    "import sys\n",
    "version = 'v0.6'\n",
    "sys.path.append('/Users/denis/Documents/Projects/jupyter-notebook/notebook-generator/library/{}/core_scripts/load'.format(version))\n",
    "sys.path.append('/Users/denis/Documents/Projects/jupyter-notebook/notebook-generator/library/{}/core_scripts/signature'.format(version))\n",
    "sys.path.append('/Users/denis/Documents/Projects/jupyter-notebook/notebook-generator/library/{}'.format(version))\n"
   ]
  },
  {
   "cell_type": "code",
   "execution_count": 60,
   "metadata": {
    "collapsed": true
   },
   "outputs": [],
   "source": [
    "from analysis_tools import enrichr"
   ]
  },
  {
   "cell_type": "code",
   "execution_count": 56,
   "metadata": {
    "collapsed": true
   },
   "outputs": [],
   "source": [
    "import signature\n",
    "import json\n",
    "from importlib import reload\n",
    "import load"
   ]
  },
  {
   "cell_type": "code",
   "execution_count": 74,
   "metadata": {
    "collapsed": true
   },
   "outputs": [],
   "source": [
    "infile = 's3-genesets.dir/limma/SIG00051-limma-geneset.json'"
   ]
  },
  {
   "cell_type": "code",
   "execution_count": 88,
   "metadata": {},
   "outputs": [
    {
     "data": {
      "text/plain": [
       "<module 'analysis_tools.tf_enrichment.tf_enrichment' from '/Users/denis/Documents/Projects/jupyter-notebook/notebook-generator/library/v0.6/analysis_tools/tf_enrichment/tf_enrichment.py'>"
      ]
     },
     "execution_count": 88,
     "metadata": {},
     "output_type": "execute_result"
    }
   ],
   "source": [
    "import analysis_tools.tf_enrichment.tf_enrichment as tf_enrichment\n",
    "reload(tf_enrichment)"
   ]
  },
  {
   "cell_type": "code",
   "execution_count": 89,
   "metadata": {},
   "outputs": [],
   "source": [
    "# Read IDs\n",
    "with open(infile) as openfile:\n",
    "    enrichr_results = json.loads(openfile.read())\n",
    "\n",
    "# Calculate enrichment\n",
    "tf_dataframe = tf_enrichment.run(enrichr_results, '')['enrichment_dataframe']\n",
    "\n",
    "# Get TF\n",
    "tf_dataframe['TF'] = [x.split('_')[0] for x in tf_dataframe['term_name']]\n",
    "tf_dataframe = tf_dataframe.replace('### A. ChEA (experimentally validated targets)', 'ChEA_2016').replace('### B. ENCODE (experimentally validated targets)', 'ENCODE_TF_ChIP-seq_2015').replace('### C. ARCHS4 (coexpressed genes)', 'ARCHS4_TFs_Coexp').drop('overlapping_genes', axis=1)"
   ]
  },
  {
   "cell_type": "code",
   "execution_count": 95,
   "metadata": {},
   "outputs": [
    {
     "data": {
      "text/html": [
       "<div>\n",
       "<style>\n",
       "    .dataframe thead tr:only-child th {\n",
       "        text-align: right;\n",
       "    }\n",
       "\n",
       "    .dataframe thead th {\n",
       "        text-align: left;\n",
       "    }\n",
       "\n",
       "    .dataframe tbody tr th {\n",
       "        vertical-align: top;\n",
       "    }\n",
       "</style>\n",
       "<table border=\"1\" class=\"dataframe\">\n",
       "  <thead>\n",
       "    <tr style=\"text-align: right;\">\n",
       "      <th></th>\n",
       "      <th>term_name</th>\n",
       "      <th>zscore</th>\n",
       "      <th>combined_score</th>\n",
       "      <th>FDR</th>\n",
       "      <th>pvalue</th>\n",
       "      <th>gene_set_library</th>\n",
       "      <th>geneset</th>\n",
       "      <th>TF</th>\n",
       "    </tr>\n",
       "  </thead>\n",
       "  <tbody>\n",
       "    <tr>\n",
       "      <th>0</th>\n",
       "      <td>SMAD_19615063_ChIP-ChIP_OVARY_Human</td>\n",
       "      <td>-4.065721</td>\n",
       "      <td>22.464641</td>\n",
       "      <td>0.502030</td>\n",
       "      <td>0.003984</td>\n",
       "      <td>ChEA_2016</td>\n",
       "      <td>upregulated</td>\n",
       "      <td>SMAD</td>\n",
       "    </tr>\n",
       "    <tr>\n",
       "      <th>1</th>\n",
       "      <td>SOX2_20726797_ChIP-Seq_SW620_Human</td>\n",
       "      <td>-1.893086</td>\n",
       "      <td>17.022366</td>\n",
       "      <td>0.078383</td>\n",
       "      <td>0.000124</td>\n",
       "      <td>ChEA_2016</td>\n",
       "      <td>upregulated</td>\n",
       "      <td>SOX2</td>\n",
       "    </tr>\n",
       "    <tr>\n",
       "      <th>2</th>\n",
       "      <td>AHR_22903824_ChIP-Seq_MCF-7_Human</td>\n",
       "      <td>-2.425940</td>\n",
       "      <td>14.546056</td>\n",
       "      <td>0.391949</td>\n",
       "      <td>0.002489</td>\n",
       "      <td>ChEA_2016</td>\n",
       "      <td>upregulated</td>\n",
       "      <td>AHR</td>\n",
       "    </tr>\n",
       "    <tr>\n",
       "      <th>3</th>\n",
       "      <td>DROSHA_22980978_ChIP-Seq_HELA_Human</td>\n",
       "      <td>-2.427082</td>\n",
       "      <td>12.576836</td>\n",
       "      <td>0.505571</td>\n",
       "      <td>0.005617</td>\n",
       "      <td>ChEA_2016</td>\n",
       "      <td>upregulated</td>\n",
       "      <td>DROSHA</td>\n",
       "    </tr>\n",
       "    <tr>\n",
       "      <th>4</th>\n",
       "      <td>TFAP2C_20629094_ChIP-Seq_MCF-7_Human</td>\n",
       "      <td>-1.887093</td>\n",
       "      <td>12.101327</td>\n",
       "      <td>0.391949</td>\n",
       "      <td>0.001641</td>\n",
       "      <td>ChEA_2016</td>\n",
       "      <td>upregulated</td>\n",
       "      <td>TFAP2C</td>\n",
       "    </tr>\n",
       "  </tbody>\n",
       "</table>\n",
       "</div>"
      ],
      "text/plain": [
       "                              term_name    zscore  combined_score       FDR  \\\n",
       "0   SMAD_19615063_ChIP-ChIP_OVARY_Human -4.065721       22.464641  0.502030   \n",
       "1    SOX2_20726797_ChIP-Seq_SW620_Human -1.893086       17.022366  0.078383   \n",
       "2     AHR_22903824_ChIP-Seq_MCF-7_Human -2.425940       14.546056  0.391949   \n",
       "3   DROSHA_22980978_ChIP-Seq_HELA_Human -2.427082       12.576836  0.505571   \n",
       "4  TFAP2C_20629094_ChIP-Seq_MCF-7_Human -1.887093       12.101327  0.391949   \n",
       "\n",
       "     pvalue gene_set_library      geneset      TF  \n",
       "0  0.003984        ChEA_2016  upregulated    SMAD  \n",
       "1  0.000124        ChEA_2016  upregulated    SOX2  \n",
       "2  0.002489        ChEA_2016  upregulated     AHR  \n",
       "3  0.005617        ChEA_2016  upregulated  DROSHA  \n",
       "4  0.001641        ChEA_2016  upregulated  TFAP2C  "
      ]
     },
     "execution_count": 95,
     "metadata": {},
     "output_type": "execute_result"
    }
   ],
   "source": [
    "tf_dataframe.head()"
   ]
  },
  {
   "cell_type": "code",
   "execution_count": null,
   "metadata": {
    "collapsed": true
   },
   "outputs": [],
   "source": []
  }
 ],
 "metadata": {
  "kernelspec": {
   "display_name": "Python 3",
   "language": "python",
   "name": "python3"
  },
  "language_info": {
   "codemirror_mode": {
    "name": "ipython",
    "version": 3
   },
   "file_extension": ".py",
   "mimetype": "text/x-python",
   "name": "python",
   "nbconvert_exporter": "python",
   "pygments_lexer": "ipython3",
   "version": "3.6.3"
  }
 },
 "nbformat": 4,
 "nbformat_minor": 2
}
