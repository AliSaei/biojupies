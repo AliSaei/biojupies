{
 "cells": [
  {
   "cell_type": "code",
   "execution_count": 3,
   "metadata": {
    "collapsed": true
   },
   "outputs": [],
   "source": [
    "from sqlalchemy import create_engine\n",
    "import os, json\n",
    "import pandas as pd\n",
    "import pymysql\n",
    "pymysql.install_as_MySQLdb()"
   ]
  },
  {
   "cell_type": "code",
   "execution_count": 13,
   "metadata": {},
   "outputs": [],
   "source": [
    "engine = create_engine(os.environ['SQLALCHEMY_DATABASE_URI']+'?charset=utf8')"
   ]
  },
  {
   "cell_type": "code",
   "execution_count": 14,
   "metadata": {},
   "outputs": [
    {
     "data": {
      "text/html": [
       "<div>\n",
       "<style>\n",
       "    .dataframe thead tr:only-child th {\n",
       "        text-align: right;\n",
       "    }\n",
       "\n",
       "    .dataframe thead th {\n",
       "        text-align: left;\n",
       "    }\n",
       "\n",
       "    .dataframe tbody tr th {\n",
       "        vertical-align: top;\n",
       "    }\n",
       "</style>\n",
       "<table border=\"1\" class=\"dataframe\">\n",
       "  <thead>\n",
       "    <tr style=\"text-align: right;\">\n",
       "      <th></th>\n",
       "      <th>id</th>\n",
       "      <th>notebook_uid</th>\n",
       "      <th>version</th>\n",
       "      <th>date</th>\n",
       "      <th>notebook_configuration</th>\n",
       "      <th>dataset</th>\n",
       "      <th>notebook_title</th>\n",
       "      <th>time</th>\n",
       "    </tr>\n",
       "  </thead>\n",
       "  <tbody>\n",
       "    <tr>\n",
       "      <th>0</th>\n",
       "      <td>1</td>\n",
       "      <td>bfxNc9ga5</td>\n",
       "      <td>v0.3</td>\n",
       "      <td>2018-03-05 11:04:54</td>\n",
       "      <td>{\"notebook\": {\"title\": \"GSE88741 Analysis Note...</td>\n",
       "      <td>GSE88741</td>\n",
       "      <td>GSE88741 Analysis Notebook</td>\n",
       "      <td>None</td>\n",
       "    </tr>\n",
       "    <tr>\n",
       "      <th>1</th>\n",
       "      <td>2</td>\n",
       "      <td>L7PlI61ii</td>\n",
       "      <td>v0.3</td>\n",
       "      <td>2018-03-05 11:05:42</td>\n",
       "      <td>{\"notebook\": {\"title\": \"GSE88741 Analysis Note...</td>\n",
       "      <td>GSE88741</td>\n",
       "      <td>GSE88741 Analysis Notebook</td>\n",
       "      <td>None</td>\n",
       "    </tr>\n",
       "    <tr>\n",
       "      <th>2</th>\n",
       "      <td>3</td>\n",
       "      <td>KOk4C6XeW</td>\n",
       "      <td>v0.3</td>\n",
       "      <td>2018-03-05 11:06:27</td>\n",
       "      <td>{\"notebook\": {\"title\": \"GSE88741 Analysis Note...</td>\n",
       "      <td>GSE88741</td>\n",
       "      <td>GSE88741 Analysis Notebook</td>\n",
       "      <td>None</td>\n",
       "    </tr>\n",
       "    <tr>\n",
       "      <th>3</th>\n",
       "      <td>4</td>\n",
       "      <td>u0ihfVbuq</td>\n",
       "      <td>v0.3</td>\n",
       "      <td>2018-03-05 11:08:55</td>\n",
       "      <td>{\"notebook\": {\"title\": \"GSE88741 Analysis Note...</td>\n",
       "      <td>GSE88741</td>\n",
       "      <td>GSE88741 Analysis Notebook</td>\n",
       "      <td>None</td>\n",
       "    </tr>\n",
       "    <tr>\n",
       "      <th>4</th>\n",
       "      <td>5</td>\n",
       "      <td>IxTXstW4V</td>\n",
       "      <td>v0.3</td>\n",
       "      <td>2018-03-05 11:16:37</td>\n",
       "      <td>{\"notebook\": {\"title\": \"GSE88741 Analysis Note...</td>\n",
       "      <td>GSE88741</td>\n",
       "      <td>GSE88741 Analysis Notebook</td>\n",
       "      <td>None</td>\n",
       "    </tr>\n",
       "  </tbody>\n",
       "</table>\n",
       "</div>"
      ],
      "text/plain": [
       "   id notebook_uid version                date  \\\n",
       "0   1    bfxNc9ga5    v0.3 2018-03-05 11:04:54   \n",
       "1   2    L7PlI61ii    v0.3 2018-03-05 11:05:42   \n",
       "2   3    KOk4C6XeW    v0.3 2018-03-05 11:06:27   \n",
       "3   4    u0ihfVbuq    v0.3 2018-03-05 11:08:55   \n",
       "4   5    IxTXstW4V    v0.3 2018-03-05 11:16:37   \n",
       "\n",
       "                              notebook_configuration   dataset  \\\n",
       "0  {\"notebook\": {\"title\": \"GSE88741 Analysis Note...  GSE88741   \n",
       "1  {\"notebook\": {\"title\": \"GSE88741 Analysis Note...  GSE88741   \n",
       "2  {\"notebook\": {\"title\": \"GSE88741 Analysis Note...  GSE88741   \n",
       "3  {\"notebook\": {\"title\": \"GSE88741 Analysis Note...  GSE88741   \n",
       "4  {\"notebook\": {\"title\": \"GSE88741 Analysis Note...  GSE88741   \n",
       "\n",
       "               notebook_title  time  \n",
       "0  GSE88741 Analysis Notebook  None  \n",
       "1  GSE88741 Analysis Notebook  None  \n",
       "2  GSE88741 Analysis Notebook  None  \n",
       "3  GSE88741 Analysis Notebook  None  \n",
       "4  GSE88741 Analysis Notebook  None  "
      ]
     },
     "execution_count": 14,
     "metadata": {},
     "output_type": "execute_result"
    }
   ],
   "source": [
    "# Read table\n",
    "notebooks = pd.read_sql_table('notebooks', engine).sort_values('id').drop('notebook_url', axis=1)\n",
    "notebooks.head()\n",
    "\n",
    "# Reset id\n",
    "notebooks['id'] = [x+1 for x in range(len(notebooks.index))]\n",
    "\n",
    "# Add dataset\n",
    "notebooks['dataset'] = [rowData['gse'] if rowData['gse'] else json.loads(rowData['notebook_configuration'])['data']['parameters']['uid'] for index, rowData in notebooks.iterrows()]\n",
    "\n",
    "# Drop gse\n",
    "notebooks.drop('gse', axis=1, inplace=True)\n",
    "\n",
    "# Title\n",
    "notebooks['notebook_title'] = [json.loads(x)['notebook']['title'] if json.loads(x)['notebook']['title'] else '' for x in notebooks['notebook_configuration']]\n",
    "\n",
    "# Add time\n",
    "notebooks['time'] = None\n",
    "notebooks.head()"
   ]
  },
  {
   "cell_type": "code",
   "execution_count": 15,
   "metadata": {},
   "outputs": [
    {
     "data": {
      "text/html": [
       "<div>\n",
       "<style>\n",
       "    .dataframe thead tr:only-child th {\n",
       "        text-align: right;\n",
       "    }\n",
       "\n",
       "    .dataframe thead th {\n",
       "        text-align: left;\n",
       "    }\n",
       "\n",
       "    .dataframe tbody tr th {\n",
       "        vertical-align: top;\n",
       "    }\n",
       "</style>\n",
       "<table border=\"1\" class=\"dataframe\">\n",
       "  <thead>\n",
       "    <tr style=\"text-align: right;\">\n",
       "      <th></th>\n",
       "      <th>notebook_fk</th>\n",
       "      <th>tool_fk</th>\n",
       "    </tr>\n",
       "  </thead>\n",
       "  <tbody>\n",
       "    <tr>\n",
       "      <th>0</th>\n",
       "      <td>1</td>\n",
       "      <td>1.0</td>\n",
       "    </tr>\n",
       "    <tr>\n",
       "      <th>0</th>\n",
       "      <td>2</td>\n",
       "      <td>1.0</td>\n",
       "    </tr>\n",
       "    <tr>\n",
       "      <th>0</th>\n",
       "      <td>3</td>\n",
       "      <td>1.0</td>\n",
       "    </tr>\n",
       "    <tr>\n",
       "      <th>0</th>\n",
       "      <td>4</td>\n",
       "      <td>1.0</td>\n",
       "    </tr>\n",
       "    <tr>\n",
       "      <th>0</th>\n",
       "      <td>5</td>\n",
       "      <td>1.0</td>\n",
       "    </tr>\n",
       "  </tbody>\n",
       "</table>\n",
       "</div>"
      ],
      "text/plain": [
       "   notebook_fk  tool_fk\n",
       "0            1      1.0\n",
       "0            2      1.0\n",
       "0            3      1.0\n",
       "0            4      1.0\n",
       "0            5      1.0"
      ]
     },
     "execution_count": 15,
     "metadata": {},
     "output_type": "execute_result"
    }
   ],
   "source": [
    "# Get tool ids\n",
    "tool_dict = pd.read_sql_table('tool', engine).set_index('tool_string')['id'].to_dict()\n",
    "\n",
    "# Prepare dataframe\n",
    "notebook_tool_dataframe = pd.concat([pd.DataFrame({'notebook_fk': rowData['id'], 'tool_fk': [tool_dict.get(x['tool_string']) for x in json.loads(rowData['notebook_configuration'])['tools']]}) for index, rowData in notebooks.iterrows()]).dropna()\n",
    "notebook_tool_dataframe.head()"
   ]
  },
  {
   "cell_type": "code",
   "execution_count": 16,
   "metadata": {
    "scrolled": false
   },
   "outputs": [],
   "source": [
    "# Truncate\n",
    "engine.execute('SET FOREIGN_KEY_CHECKS=0;')\n",
    "engine.execute('TRUNCATE TABLE notebook;')\n",
    "engine.execute('TRUNCATE TABLE notebook_tool;')\n",
    "engine.execute('SET FOREIGN_KEY_CHECKS=1;')\n",
    "\n",
    "# Upload\n",
    "notebooks.to_sql('notebook', engine, if_exists='append', index=False)\n",
    "notebook_tool_dataframe.to_sql('notebook_tool', engine, if_exists='append', index=False)"
   ]
  },
  {
   "cell_type": "code",
   "execution_count": 46,
   "metadata": {
    "collapsed": true
   },
   "outputs": [],
   "source": [
    "gpl = 'GPL17021'"
   ]
  },
  {
   "cell_type": "code",
   "execution_count": 45,
   "metadata": {
    "collapsed": true
   },
   "outputs": [],
   "source": [
    "import xmltodict\n",
    "import requests"
   ]
  },
  {
   "cell_type": "code",
   "execution_count": 71,
   "metadata": {
    "collapsed": true
   },
   "outputs": [],
   "source": [
    "import urllib.request\n",
    "gpl_organism = {}\n",
    "for gpl in pd.read_sql_table('platform_new', engine)['platform_accession'].unique():\n",
    "    with urllib.request.urlopen('https://eutils.ncbi.nlm.nih.gov/entrez/eutils/esearch.fcgi?db=gds&term={}'.format(gpl)) as search_response:\n",
    "        gpl_id = xmltodict.parse(search_response.read())['eSearchResult']['IdList']['Id'][0]\n",
    "        with urllib.request.urlopen('https://eutils.ncbi.nlm.nih.gov/entrez/eutils/esummary.fcgi?db=gds&id={}'.format(gpl_id)) as summary_response:\n",
    "            organism = xmltodict.parse(summary_response.read())['eSummaryResult']['DocSum']['Item'][6]['#text'].replace('Mus musculus', 'Mouse').replace('Homo sapiens', 'Human')\n",
    "            gpl_organism[gpl] = organism"
   ]
  },
  {
   "cell_type": "code",
   "execution_count": 72,
   "metadata": {},
   "outputs": [
    {
     "data": {
      "text/plain": [
       "{'GPL11154': 'Human',\n",
       " 'GPL13112': 'Mouse',\n",
       " 'GPL16791': 'Human',\n",
       " 'GPL17021': 'Mouse',\n",
       " 'GPL18573': 'Human',\n",
       " 'GPL19057': 'Mouse; Human'}"
      ]
     },
     "execution_count": 72,
     "metadata": {},
     "output_type": "execute_result"
    }
   ],
   "source": [
    "gpl_organism"
   ]
  },
  {
   "cell_type": "markdown",
   "metadata": {},
   "source": [
    "## Signature"
   ]
  },
  {
   "cell_type": "code",
   "execution_count": 42,
   "metadata": {},
   "outputs": [
    {
     "data": {
      "text/html": [
       "<div>\n",
       "<style>\n",
       "    .dataframe thead tr:only-child th {\n",
       "        text-align: right;\n",
       "    }\n",
       "\n",
       "    .dataframe thead th {\n",
       "        text-align: left;\n",
       "    }\n",
       "\n",
       "    .dataframe tbody tr th {\n",
       "        vertical-align: top;\n",
       "    }\n",
       "</style>\n",
       "<table border=\"1\" class=\"dataframe\">\n",
       "  <thead>\n",
       "    <tr style=\"text-align: right;\">\n",
       "      <th></th>\n",
       "      <th>id</th>\n",
       "      <th>sample_accession</th>\n",
       "      <th>sample_title</th>\n",
       "      <th>dataset_fk</th>\n",
       "      <th>platform_fk</th>\n",
       "    </tr>\n",
       "  </thead>\n",
       "  <tbody>\n",
       "    <tr>\n",
       "      <th>0</th>\n",
       "      <td>1</td>\n",
       "      <td>GSM2668542</td>\n",
       "      <td>61_Old_CS</td>\n",
       "      <td>1</td>\n",
       "      <td>1</td>\n",
       "    </tr>\n",
       "    <tr>\n",
       "      <th>1</th>\n",
       "      <td>2</td>\n",
       "      <td>GSM2668543</td>\n",
       "      <td>63_Old_CS</td>\n",
       "      <td>1</td>\n",
       "      <td>1</td>\n",
       "    </tr>\n",
       "    <tr>\n",
       "      <th>2</th>\n",
       "      <td>3</td>\n",
       "      <td>GSM2668544</td>\n",
       "      <td>65_Old_CS</td>\n",
       "      <td>1</td>\n",
       "      <td>1</td>\n",
       "    </tr>\n",
       "    <tr>\n",
       "      <th>3</th>\n",
       "      <td>4</td>\n",
       "      <td>GSM2668545</td>\n",
       "      <td>67_Old_Naive</td>\n",
       "      <td>1</td>\n",
       "      <td>1</td>\n",
       "    </tr>\n",
       "    <tr>\n",
       "      <th>4</th>\n",
       "      <td>5</td>\n",
       "      <td>GSM2668546</td>\n",
       "      <td>69_Old_Naive</td>\n",
       "      <td>1</td>\n",
       "      <td>1</td>\n",
       "    </tr>\n",
       "  </tbody>\n",
       "</table>\n",
       "</div>"
      ],
      "text/plain": [
       "   id sample_accession  sample_title  dataset_fk  platform_fk\n",
       "0   1       GSM2668542     61_Old_CS           1            1\n",
       "1   2       GSM2668543     63_Old_CS           1            1\n",
       "2   3       GSM2668544     65_Old_CS           1            1\n",
       "3   4       GSM2668545  67_Old_Naive           1            1\n",
       "4   5       GSM2668546  69_Old_Naive           1            1"
      ]
     },
     "execution_count": 42,
     "metadata": {},
     "output_type": "execute_result"
    }
   ],
   "source": [
    "sample_dataframe = pd.read_sql_table('sample_new', engine)\n",
    "sample_dataframe.head()"
   ]
  },
  {
   "cell_type": "code",
   "execution_count": 24,
   "metadata": {},
   "outputs": [
    {
     "data": {
      "text/html": [
       "<div>\n",
       "<style>\n",
       "    .dataframe thead tr:only-child th {\n",
       "        text-align: right;\n",
       "    }\n",
       "\n",
       "    .dataframe thead th {\n",
       "        text-align: left;\n",
       "    }\n",
       "\n",
       "    .dataframe tbody tr th {\n",
       "        vertical-align: top;\n",
       "    }\n",
       "</style>\n",
       "<table border=\"1\" class=\"dataframe\">\n",
       "  <thead>\n",
       "    <tr style=\"text-align: right;\">\n",
       "      <th></th>\n",
       "      <th>id</th>\n",
       "      <th>notebook_uid</th>\n",
       "      <th>dataset</th>\n",
       "      <th>notebook_title</th>\n",
       "      <th>version</th>\n",
       "      <th>notebook_configuration</th>\n",
       "      <th>time</th>\n",
       "      <th>date</th>\n",
       "    </tr>\n",
       "  </thead>\n",
       "  <tbody>\n",
       "    <tr>\n",
       "      <th>0</th>\n",
       "      <td>1</td>\n",
       "      <td>bfxNc9ga5</td>\n",
       "      <td>GSE88741</td>\n",
       "      <td>GSE88741 Analysis Notebook</td>\n",
       "      <td>v0.3</td>\n",
       "      <td>{'notebook': {'title': 'GSE88741 Analysis Note...</td>\n",
       "      <td>NaN</td>\n",
       "      <td>2018-03-05 11:04:54</td>\n",
       "    </tr>\n",
       "    <tr>\n",
       "      <th>1</th>\n",
       "      <td>2</td>\n",
       "      <td>L7PlI61ii</td>\n",
       "      <td>GSE88741</td>\n",
       "      <td>GSE88741 Analysis Notebook</td>\n",
       "      <td>v0.3</td>\n",
       "      <td>{'notebook': {'title': 'GSE88741 Analysis Note...</td>\n",
       "      <td>NaN</td>\n",
       "      <td>2018-03-05 11:05:42</td>\n",
       "    </tr>\n",
       "    <tr>\n",
       "      <th>2</th>\n",
       "      <td>3</td>\n",
       "      <td>KOk4C6XeW</td>\n",
       "      <td>GSE88741</td>\n",
       "      <td>GSE88741 Analysis Notebook</td>\n",
       "      <td>v0.3</td>\n",
       "      <td>{'notebook': {'title': 'GSE88741 Analysis Note...</td>\n",
       "      <td>NaN</td>\n",
       "      <td>2018-03-05 11:06:27</td>\n",
       "    </tr>\n",
       "    <tr>\n",
       "      <th>3</th>\n",
       "      <td>4</td>\n",
       "      <td>u0ihfVbuq</td>\n",
       "      <td>GSE88741</td>\n",
       "      <td>GSE88741 Analysis Notebook</td>\n",
       "      <td>v0.3</td>\n",
       "      <td>{'notebook': {'title': 'GSE88741 Analysis Note...</td>\n",
       "      <td>NaN</td>\n",
       "      <td>2018-03-05 11:08:55</td>\n",
       "    </tr>\n",
       "    <tr>\n",
       "      <th>4</th>\n",
       "      <td>5</td>\n",
       "      <td>IxTXstW4V</td>\n",
       "      <td>GSE88741</td>\n",
       "      <td>GSE88741 Analysis Notebook</td>\n",
       "      <td>v0.3</td>\n",
       "      <td>{'notebook': {'title': 'GSE88741 Analysis Note...</td>\n",
       "      <td>NaN</td>\n",
       "      <td>2018-03-05 11:16:37</td>\n",
       "    </tr>\n",
       "  </tbody>\n",
       "</table>\n",
       "</div>"
      ],
      "text/plain": [
       "   id notebook_uid   dataset              notebook_title version  \\\n",
       "0   1    bfxNc9ga5  GSE88741  GSE88741 Analysis Notebook    v0.3   \n",
       "1   2    L7PlI61ii  GSE88741  GSE88741 Analysis Notebook    v0.3   \n",
       "2   3    KOk4C6XeW  GSE88741  GSE88741 Analysis Notebook    v0.3   \n",
       "3   4    u0ihfVbuq  GSE88741  GSE88741 Analysis Notebook    v0.3   \n",
       "4   5    IxTXstW4V  GSE88741  GSE88741 Analysis Notebook    v0.3   \n",
       "\n",
       "                              notebook_configuration  time                date  \n",
       "0  {'notebook': {'title': 'GSE88741 Analysis Note...   NaN 2018-03-05 11:04:54  \n",
       "1  {'notebook': {'title': 'GSE88741 Analysis Note...   NaN 2018-03-05 11:05:42  \n",
       "2  {'notebook': {'title': 'GSE88741 Analysis Note...   NaN 2018-03-05 11:06:27  \n",
       "3  {'notebook': {'title': 'GSE88741 Analysis Note...   NaN 2018-03-05 11:08:55  \n",
       "4  {'notebook': {'title': 'GSE88741 Analysis Note...   NaN 2018-03-05 11:16:37  "
      ]
     },
     "execution_count": 24,
     "metadata": {},
     "output_type": "execute_result"
    }
   ],
   "source": [
    "notebook = pd.read_sql_table('notebook', engine)\n",
    "notebook['notebook_configuration'] = [json.loads(x) for x in notebook['notebook_configuration']]\n",
    "notebook.head()"
   ]
  },
  {
   "cell_type": "code",
   "execution_count": 30,
   "metadata": {
    "collapsed": true
   },
   "outputs": [],
   "source": [
    "for group in ['A', 'B']:\n",
    "    notebook[group] = [x['signature'][group]['samples'] if len(x['signature']) else None for x in notebook['notebook_configuration']]"
   ]
  },
  {
   "cell_type": "code",
   "execution_count": 35,
   "metadata": {},
   "outputs": [
    {
     "data": {
      "text/html": [
       "<div>\n",
       "<style>\n",
       "    .dataframe thead tr:only-child th {\n",
       "        text-align: right;\n",
       "    }\n",
       "\n",
       "    .dataframe thead th {\n",
       "        text-align: left;\n",
       "    }\n",
       "\n",
       "    .dataframe tbody tr th {\n",
       "        vertical-align: top;\n",
       "    }\n",
       "</style>\n",
       "<table border=\"1\" class=\"dataframe\">\n",
       "  <thead>\n",
       "    <tr style=\"text-align: right;\">\n",
       "      <th></th>\n",
       "      <th>notebook_uid</th>\n",
       "      <th>control</th>\n",
       "      <th>perturbation</th>\n",
       "    </tr>\n",
       "  </thead>\n",
       "  <tbody>\n",
       "    <tr>\n",
       "      <th>4</th>\n",
       "      <td>IxTXstW4V</td>\n",
       "      <td>[GSM2344965, GSM2344966, GSM2344967]</td>\n",
       "      <td>[GSM2344971, GSM2344972, GSM2344973]</td>\n",
       "    </tr>\n",
       "    <tr>\n",
       "      <th>5</th>\n",
       "      <td>eB0JLr3d3</td>\n",
       "      <td>[GSM2344965, GSM2344966, GSM2344967]</td>\n",
       "      <td>[GSM2344971, GSM2344972, GSM2344973]</td>\n",
       "    </tr>\n",
       "    <tr>\n",
       "      <th>6</th>\n",
       "      <td>nChgjTx4f</td>\n",
       "      <td>[GSM2344965, GSM2344966, GSM2344967]</td>\n",
       "      <td>[GSM2344971, GSM2344972, GSM2344973, GSM234496...</td>\n",
       "    </tr>\n",
       "    <tr>\n",
       "      <th>7</th>\n",
       "      <td>pEBOp87zR</td>\n",
       "      <td>[GSM2686061, GSM2686062, GSM2686063]</td>\n",
       "      <td>[GSM2686058, GSM2686059, GSM2686060]</td>\n",
       "    </tr>\n",
       "    <tr>\n",
       "      <th>8</th>\n",
       "      <td>z9mIfboIP</td>\n",
       "      <td>[GSM2682871, GSM2682872, GSM2682873, GSM2682879]</td>\n",
       "      <td>[GSM2682874, GSM2682875, GSM2682877]</td>\n",
       "    </tr>\n",
       "  </tbody>\n",
       "</table>\n",
       "</div>"
      ],
      "text/plain": [
       "  notebook_uid                                           control  \\\n",
       "4    IxTXstW4V              [GSM2344965, GSM2344966, GSM2344967]   \n",
       "5    eB0JLr3d3              [GSM2344965, GSM2344966, GSM2344967]   \n",
       "6    nChgjTx4f              [GSM2344965, GSM2344966, GSM2344967]   \n",
       "7    pEBOp87zR              [GSM2686061, GSM2686062, GSM2686063]   \n",
       "8    z9mIfboIP  [GSM2682871, GSM2682872, GSM2682873, GSM2682879]   \n",
       "\n",
       "                                        perturbation  \n",
       "4               [GSM2344971, GSM2344972, GSM2344973]  \n",
       "5               [GSM2344971, GSM2344972, GSM2344973]  \n",
       "6  [GSM2344971, GSM2344972, GSM2344973, GSM234496...  \n",
       "7               [GSM2686058, GSM2686059, GSM2686060]  \n",
       "8               [GSM2682874, GSM2682875, GSM2682877]  "
      ]
     },
     "execution_count": 35,
     "metadata": {},
     "output_type": "execute_result"
    }
   ],
   "source": [
    "signature = notebook[['notebook_uid', 'A', 'B']].rename(columns={'A': 'control', 'B': 'perturbation'}).dropna()\n",
    "signature.head()"
   ]
  },
  {
   "cell_type": "code",
   "execution_count": 38,
   "metadata": {},
   "outputs": [
    {
     "data": {
      "text/html": [
       "<div>\n",
       "<style>\n",
       "    .dataframe thead tr:only-child th {\n",
       "        text-align: right;\n",
       "    }\n",
       "\n",
       "    .dataframe thead th {\n",
       "        text-align: left;\n",
       "    }\n",
       "\n",
       "    .dataframe tbody tr th {\n",
       "        vertical-align: top;\n",
       "    }\n",
       "</style>\n",
       "<table border=\"1\" class=\"dataframe\">\n",
       "  <thead>\n",
       "    <tr style=\"text-align: right;\">\n",
       "      <th></th>\n",
       "      <th>control</th>\n",
       "      <th>notebook_uid</th>\n",
       "      <th>sample_accession</th>\n",
       "    </tr>\n",
       "  </thead>\n",
       "  <tbody>\n",
       "    <tr>\n",
       "      <th>0</th>\n",
       "      <td>True</td>\n",
       "      <td>IxTXstW4V</td>\n",
       "      <td>GSM2344965</td>\n",
       "    </tr>\n",
       "    <tr>\n",
       "      <th>1</th>\n",
       "      <td>True</td>\n",
       "      <td>IxTXstW4V</td>\n",
       "      <td>GSM2344966</td>\n",
       "    </tr>\n",
       "    <tr>\n",
       "      <th>2</th>\n",
       "      <td>True</td>\n",
       "      <td>IxTXstW4V</td>\n",
       "      <td>GSM2344967</td>\n",
       "    </tr>\n",
       "    <tr>\n",
       "      <th>3</th>\n",
       "      <td>False</td>\n",
       "      <td>IxTXstW4V</td>\n",
       "      <td>GSM2344971</td>\n",
       "    </tr>\n",
       "    <tr>\n",
       "      <th>4</th>\n",
       "      <td>False</td>\n",
       "      <td>IxTXstW4V</td>\n",
       "      <td>GSM2344972</td>\n",
       "    </tr>\n",
       "  </tbody>\n",
       "</table>\n",
       "</div>"
      ],
      "text/plain": [
       "   control notebook_uid sample_accession\n",
       "0     True    IxTXstW4V       GSM2344965\n",
       "1     True    IxTXstW4V       GSM2344966\n",
       "2     True    IxTXstW4V       GSM2344967\n",
       "3    False    IxTXstW4V       GSM2344971\n",
       "4    False    IxTXstW4V       GSM2344972"
      ]
     },
     "execution_count": 38,
     "metadata": {},
     "output_type": "execute_result"
    }
   ],
   "source": [
    "results = []\n",
    "for index, rowData in signature.iterrows():\n",
    "    for col in ['control', 'perturbation']:\n",
    "        for sample in rowData[col]:\n",
    "            results.append({'notebook_uid': rowData['notebook_uid'], 'sample_accession': sample, 'control': col == 'control'})\n",
    "            \n",
    "result_dataframe = pd.DataFrame(results)\n",
    "result_dataframe.head()"
   ]
  },
  {
   "cell_type": "code",
   "execution_count": 44,
   "metadata": {},
   "outputs": [
    {
     "data": {
      "text/html": [
       "<div>\n",
       "<style>\n",
       "    .dataframe thead tr:only-child th {\n",
       "        text-align: right;\n",
       "    }\n",
       "\n",
       "    .dataframe thead th {\n",
       "        text-align: left;\n",
       "    }\n",
       "\n",
       "    .dataframe tbody tr th {\n",
       "        vertical-align: top;\n",
       "    }\n",
       "</style>\n",
       "<table border=\"1\" class=\"dataframe\">\n",
       "  <thead>\n",
       "    <tr style=\"text-align: right;\">\n",
       "      <th></th>\n",
       "      <th>notebook_fk</th>\n",
       "      <th>sample_fk</th>\n",
       "      <th>control</th>\n",
       "    </tr>\n",
       "  </thead>\n",
       "  <tbody>\n",
       "    <tr>\n",
       "      <th>0</th>\n",
       "      <td>5</td>\n",
       "      <td>184695</td>\n",
       "      <td>True</td>\n",
       "    </tr>\n",
       "    <tr>\n",
       "      <th>1</th>\n",
       "      <td>6</td>\n",
       "      <td>184695</td>\n",
       "      <td>True</td>\n",
       "    </tr>\n",
       "    <tr>\n",
       "      <th>2</th>\n",
       "      <td>7</td>\n",
       "      <td>184695</td>\n",
       "      <td>True</td>\n",
       "    </tr>\n",
       "    <tr>\n",
       "      <th>3</th>\n",
       "      <td>42</td>\n",
       "      <td>184695</td>\n",
       "      <td>True</td>\n",
       "    </tr>\n",
       "    <tr>\n",
       "      <th>4</th>\n",
       "      <td>47</td>\n",
       "      <td>184695</td>\n",
       "      <td>True</td>\n",
       "    </tr>\n",
       "  </tbody>\n",
       "</table>\n",
       "</div>"
      ],
      "text/plain": [
       "   notebook_fk  sample_fk  control\n",
       "0            5     184695     True\n",
       "1            6     184695     True\n",
       "2            7     184695     True\n",
       "3           42     184695     True\n",
       "4           47     184695     True"
      ]
     },
     "execution_count": 44,
     "metadata": {},
     "output_type": "execute_result"
    }
   ],
   "source": [
    "result_dataframe_fk = result_dataframe.merge(notebook.rename(columns={'id': 'notebook_fk'}), on='notebook_uid')[['notebook_fk', 'sample_accession', 'control']].merge(sample_dataframe.rename(columns={'id': 'sample_fk'}), on='sample_accession')[['notebook_fk', 'sample_fk', 'control']]\n",
    "result_dataframe_fk.head()"
   ]
  },
  {
   "cell_type": "code",
   "execution_count": 45,
   "metadata": {},
   "outputs": [
    {
     "data": {
      "text/plain": [
       "(3016, 3)"
      ]
     },
     "execution_count": 45,
     "metadata": {},
     "output_type": "execute_result"
    }
   ],
   "source": [
    "result_dataframe_fk.shape"
   ]
  },
  {
   "cell_type": "code",
   "execution_count": 46,
   "metadata": {},
   "outputs": [
    {
     "data": {
      "text/plain": [
       "control\n",
       "False    1662\n",
       "True     1354\n",
       "dtype: int64"
      ]
     },
     "execution_count": 46,
     "metadata": {},
     "output_type": "execute_result"
    }
   ],
   "source": [
    "result_dataframe_fk.groupby('control').size()"
   ]
  },
  {
   "cell_type": "code",
   "execution_count": null,
   "metadata": {
    "collapsed": true
   },
   "outputs": [],
   "source": []
  }
 ],
 "metadata": {
  "hide_input": false,
  "kernelspec": {
   "display_name": "Python 3",
   "language": "python",
   "name": "python3"
  },
  "language_info": {
   "codemirror_mode": {
    "name": "ipython",
    "version": 3
   },
   "file_extension": ".py",
   "mimetype": "text/x-python",
   "name": "python",
   "nbconvert_exporter": "python",
   "pygments_lexer": "ipython3",
   "version": "3.6.3"
  }
 },
 "nbformat": 4,
 "nbformat_minor": 2
}
